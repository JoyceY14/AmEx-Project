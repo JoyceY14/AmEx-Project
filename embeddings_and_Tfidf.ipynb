{
  "nbformat": 4,
  "nbformat_minor": 0,
  "metadata": {
    "colab": {
      "provenance": []
    },
    "kernelspec": {
      "name": "python3",
      "display_name": "Python 3"
    },
    "language_info": {
      "name": "python"
    }
  },
  "cells": [
    {
      "cell_type": "code",
      "source": [
        "!pip install hdbscan\n",
        "!pip install sentence_transformers\n",
        "!pip install umap-learn"
      ],
      "metadata": {
        "colab": {
          "base_uri": "https://localhost:8080/"
        },
        "id": "PJ4iqol6xsDC",
        "outputId": "3df6d8b0-fbe5-4328-fab8-b5e9f9b2ab7d"
      },
      "execution_count": 1,
      "outputs": [
        {
          "output_type": "stream",
          "name": "stdout",
          "text": [
            "Collecting hdbscan\n",
            "  Downloading hdbscan-0.8.33.tar.gz (5.2 MB)\n",
            "\u001b[2K     \u001b[90m━━━━━━━━━━━━━━━━━━━━━━━━━━━━━━━━━━━━━━━━\u001b[0m \u001b[32m5.2/5.2 MB\u001b[0m \u001b[31m15.4 MB/s\u001b[0m eta \u001b[36m0:00:00\u001b[0m\n",
            "\u001b[?25h  Installing build dependencies ... \u001b[?25l\u001b[?25hdone\n",
            "  Getting requirements to build wheel ... \u001b[?25l\u001b[?25hdone\n",
            "  Preparing metadata (pyproject.toml) ... \u001b[?25l\u001b[?25hdone\n",
            "Collecting cython<3,>=0.27 (from hdbscan)\n",
            "  Using cached Cython-0.29.37-cp310-cp310-manylinux_2_17_x86_64.manylinux2014_x86_64.manylinux_2_24_x86_64.whl (1.9 MB)\n",
            "Requirement already satisfied: numpy>=1.20 in /usr/local/lib/python3.10/dist-packages (from hdbscan) (1.25.2)\n",
            "Requirement already satisfied: scipy>=1.0 in /usr/local/lib/python3.10/dist-packages (from hdbscan) (1.11.4)\n",
            "Requirement already satisfied: scikit-learn>=0.20 in /usr/local/lib/python3.10/dist-packages (from hdbscan) (1.2.2)\n",
            "Requirement already satisfied: joblib>=1.0 in /usr/local/lib/python3.10/dist-packages (from hdbscan) (1.3.2)\n",
            "Requirement already satisfied: threadpoolctl>=2.0.0 in /usr/local/lib/python3.10/dist-packages (from scikit-learn>=0.20->hdbscan) (3.3.0)\n",
            "Building wheels for collected packages: hdbscan\n",
            "  Building wheel for hdbscan (pyproject.toml) ... \u001b[?25l\u001b[?25hdone\n",
            "  Created wheel for hdbscan: filename=hdbscan-0.8.33-cp310-cp310-linux_x86_64.whl size=3039283 sha256=eaf7d7ec421627698c9f2844eb7866308308e88635aa9dc1c3944a0d941fbe45\n",
            "  Stored in directory: /root/.cache/pip/wheels/75/0b/3b/dc4f60b7cc455efaefb62883a7483e76f09d06ca81cf87d610\n",
            "Successfully built hdbscan\n",
            "Installing collected packages: cython, hdbscan\n",
            "  Attempting uninstall: cython\n",
            "    Found existing installation: Cython 3.0.8\n",
            "    Uninstalling Cython-3.0.8:\n",
            "      Successfully uninstalled Cython-3.0.8\n",
            "Successfully installed cython-0.29.37 hdbscan-0.8.33\n",
            "Collecting sentence_transformers\n",
            "  Downloading sentence_transformers-2.5.1-py3-none-any.whl (156 kB)\n",
            "\u001b[2K     \u001b[90m━━━━━━━━━━━━━━━━━━━━━━━━━━━━━━━━━━━━━━━━\u001b[0m \u001b[32m156.5/156.5 kB\u001b[0m \u001b[31m1.6 MB/s\u001b[0m eta \u001b[36m0:00:00\u001b[0m\n",
            "\u001b[?25hRequirement already satisfied: transformers<5.0.0,>=4.32.0 in /usr/local/lib/python3.10/dist-packages (from sentence_transformers) (4.38.2)\n",
            "Requirement already satisfied: tqdm in /usr/local/lib/python3.10/dist-packages (from sentence_transformers) (4.66.2)\n",
            "Requirement already satisfied: torch>=1.11.0 in /usr/local/lib/python3.10/dist-packages (from sentence_transformers) (2.1.0+cu121)\n",
            "Requirement already satisfied: numpy in /usr/local/lib/python3.10/dist-packages (from sentence_transformers) (1.25.2)\n",
            "Requirement already satisfied: scikit-learn in /usr/local/lib/python3.10/dist-packages (from sentence_transformers) (1.2.2)\n",
            "Requirement already satisfied: scipy in /usr/local/lib/python3.10/dist-packages (from sentence_transformers) (1.11.4)\n",
            "Requirement already satisfied: huggingface-hub>=0.15.1 in /usr/local/lib/python3.10/dist-packages (from sentence_transformers) (0.20.3)\n",
            "Requirement already satisfied: Pillow in /usr/local/lib/python3.10/dist-packages (from sentence_transformers) (9.4.0)\n",
            "Requirement already satisfied: filelock in /usr/local/lib/python3.10/dist-packages (from huggingface-hub>=0.15.1->sentence_transformers) (3.13.1)\n",
            "Requirement already satisfied: fsspec>=2023.5.0 in /usr/local/lib/python3.10/dist-packages (from huggingface-hub>=0.15.1->sentence_transformers) (2023.6.0)\n",
            "Requirement already satisfied: requests in /usr/local/lib/python3.10/dist-packages (from huggingface-hub>=0.15.1->sentence_transformers) (2.31.0)\n",
            "Requirement already satisfied: pyyaml>=5.1 in /usr/local/lib/python3.10/dist-packages (from huggingface-hub>=0.15.1->sentence_transformers) (6.0.1)\n",
            "Requirement already satisfied: typing-extensions>=3.7.4.3 in /usr/local/lib/python3.10/dist-packages (from huggingface-hub>=0.15.1->sentence_transformers) (4.10.0)\n",
            "Requirement already satisfied: packaging>=20.9 in /usr/local/lib/python3.10/dist-packages (from huggingface-hub>=0.15.1->sentence_transformers) (23.2)\n",
            "Requirement already satisfied: sympy in /usr/local/lib/python3.10/dist-packages (from torch>=1.11.0->sentence_transformers) (1.12)\n",
            "Requirement already satisfied: networkx in /usr/local/lib/python3.10/dist-packages (from torch>=1.11.0->sentence_transformers) (3.2.1)\n",
            "Requirement already satisfied: jinja2 in /usr/local/lib/python3.10/dist-packages (from torch>=1.11.0->sentence_transformers) (3.1.3)\n",
            "Requirement already satisfied: triton==2.1.0 in /usr/local/lib/python3.10/dist-packages (from torch>=1.11.0->sentence_transformers) (2.1.0)\n",
            "Requirement already satisfied: regex!=2019.12.17 in /usr/local/lib/python3.10/dist-packages (from transformers<5.0.0,>=4.32.0->sentence_transformers) (2023.12.25)\n",
            "Requirement already satisfied: tokenizers<0.19,>=0.14 in /usr/local/lib/python3.10/dist-packages (from transformers<5.0.0,>=4.32.0->sentence_transformers) (0.15.2)\n",
            "Requirement already satisfied: safetensors>=0.4.1 in /usr/local/lib/python3.10/dist-packages (from transformers<5.0.0,>=4.32.0->sentence_transformers) (0.4.2)\n",
            "Requirement already satisfied: joblib>=1.1.1 in /usr/local/lib/python3.10/dist-packages (from scikit-learn->sentence_transformers) (1.3.2)\n",
            "Requirement already satisfied: threadpoolctl>=2.0.0 in /usr/local/lib/python3.10/dist-packages (from scikit-learn->sentence_transformers) (3.3.0)\n",
            "Requirement already satisfied: MarkupSafe>=2.0 in /usr/local/lib/python3.10/dist-packages (from jinja2->torch>=1.11.0->sentence_transformers) (2.1.5)\n",
            "Requirement already satisfied: charset-normalizer<4,>=2 in /usr/local/lib/python3.10/dist-packages (from requests->huggingface-hub>=0.15.1->sentence_transformers) (3.3.2)\n",
            "Requirement already satisfied: idna<4,>=2.5 in /usr/local/lib/python3.10/dist-packages (from requests->huggingface-hub>=0.15.1->sentence_transformers) (3.6)\n",
            "Requirement already satisfied: urllib3<3,>=1.21.1 in /usr/local/lib/python3.10/dist-packages (from requests->huggingface-hub>=0.15.1->sentence_transformers) (2.0.7)\n",
            "Requirement already satisfied: certifi>=2017.4.17 in /usr/local/lib/python3.10/dist-packages (from requests->huggingface-hub>=0.15.1->sentence_transformers) (2024.2.2)\n",
            "Requirement already satisfied: mpmath>=0.19 in /usr/local/lib/python3.10/dist-packages (from sympy->torch>=1.11.0->sentence_transformers) (1.3.0)\n",
            "Installing collected packages: sentence_transformers\n",
            "Successfully installed sentence_transformers-2.5.1\n",
            "Collecting umap-learn\n",
            "  Downloading umap-learn-0.5.5.tar.gz (90 kB)\n",
            "\u001b[2K     \u001b[90m━━━━━━━━━━━━━━━━━━━━━━━━━━━━━━━━━━━━━━━━\u001b[0m \u001b[32m90.9/90.9 kB\u001b[0m \u001b[31m1.5 MB/s\u001b[0m eta \u001b[36m0:00:00\u001b[0m\n",
            "\u001b[?25h  Preparing metadata (setup.py) ... \u001b[?25l\u001b[?25hdone\n",
            "Requirement already satisfied: numpy>=1.17 in /usr/local/lib/python3.10/dist-packages (from umap-learn) (1.25.2)\n",
            "Requirement already satisfied: scipy>=1.3.1 in /usr/local/lib/python3.10/dist-packages (from umap-learn) (1.11.4)\n",
            "Requirement already satisfied: scikit-learn>=0.22 in /usr/local/lib/python3.10/dist-packages (from umap-learn) (1.2.2)\n",
            "Requirement already satisfied: numba>=0.51.2 in /usr/local/lib/python3.10/dist-packages (from umap-learn) (0.58.1)\n",
            "Collecting pynndescent>=0.5 (from umap-learn)\n",
            "  Downloading pynndescent-0.5.11-py3-none-any.whl (55 kB)\n",
            "\u001b[2K     \u001b[90m━━━━━━━━━━━━━━━━━━━━━━━━━━━━━━━━━━━━━━━━\u001b[0m \u001b[32m55.8/55.8 kB\u001b[0m \u001b[31m6.1 MB/s\u001b[0m eta \u001b[36m0:00:00\u001b[0m\n",
            "\u001b[?25hRequirement already satisfied: tqdm in /usr/local/lib/python3.10/dist-packages (from umap-learn) (4.66.2)\n",
            "Requirement already satisfied: llvmlite<0.42,>=0.41.0dev0 in /usr/local/lib/python3.10/dist-packages (from numba>=0.51.2->umap-learn) (0.41.1)\n",
            "Requirement already satisfied: joblib>=0.11 in /usr/local/lib/python3.10/dist-packages (from pynndescent>=0.5->umap-learn) (1.3.2)\n",
            "Requirement already satisfied: threadpoolctl>=2.0.0 in /usr/local/lib/python3.10/dist-packages (from scikit-learn>=0.22->umap-learn) (3.3.0)\n",
            "Building wheels for collected packages: umap-learn\n",
            "  Building wheel for umap-learn (setup.py) ... \u001b[?25l\u001b[?25hdone\n",
            "  Created wheel for umap-learn: filename=umap_learn-0.5.5-py3-none-any.whl size=86832 sha256=7ece4df76d39245b91f1deda0e86740312535e549ab20fb6f670d9e673e96709\n",
            "  Stored in directory: /root/.cache/pip/wheels/3a/70/07/428d2b58660a1a3b431db59b806a10da736612ebbc66c1bcc5\n",
            "Successfully built umap-learn\n",
            "Installing collected packages: pynndescent, umap-learn\n",
            "Successfully installed pynndescent-0.5.11 umap-learn-0.5.5\n"
          ]
        }
      ]
    },
    {
      "cell_type": "code",
      "execution_count": 43,
      "metadata": {
        "id": "W23-om2awR5t"
      },
      "outputs": [],
      "source": [
        "import pandas as pd\n",
        "import numpy as np\n",
        "import matplotlib.pyplot as plt\n",
        "import seaborn as sns\n",
        "import torch\n",
        "\n",
        "from sklearn.feature_extraction.text import TfidfVectorizer\n",
        "from sklearn.cluster import KMeans\n",
        "from sklearn.metrics import silhouette_score\n",
        "from sklearn.decomposition import PCA\n",
        "from sklearn.preprocessing import normalize\n",
        "from sklearn.preprocessing import Normalizer\n",
        "from sklearn.model_selection import train_test_split\n",
        "from gensim.models import Word2Vec\n",
        "from sklearn.manifold import TSNE\n",
        "import tensorflow as tf\n",
        "\n",
        "from transformers import AutoTokenizer, AutoModelForSequenceClassification, AutoModel,pipeline\n",
        "\n",
        "import hdbscan\n",
        "from sklearn import metrics\n",
        "\n",
        "\n",
        "from sentence_transformers import SentenceTransformer\n",
        "import umap"
      ]
    },
    {
      "cell_type": "code",
      "source": [
        "model_id = 'bert-base-uncased'\n",
        "tokenizer = AutoTokenizer.from_pretrained(model_id)\n",
        "model = AutoModel.from_pretrained(model_id)\n",
        "classifier = pipeline('text-classification', tokenizer=tokenizer, model=model, return_all_scores=True)"
      ],
      "metadata": {
        "colab": {
          "base_uri": "https://localhost:8080/"
        },
        "id": "wNqCSgcLxiHG",
        "outputId": "cf5c542d-96af-4310-d41a-f72d65de1cb2"
      },
      "execution_count": 19,
      "outputs": [
        {
          "output_type": "stream",
          "name": "stderr",
          "text": [
            "/usr/local/lib/python3.10/dist-packages/transformers/pipelines/text_classification.py:104: UserWarning: `return_all_scores` is now deprecated,  if want a similar functionality use `top_k=None` instead of `return_all_scores=True` or `top_k=1` instead of `return_all_scores=False`.\n",
            "  warnings.warn(\n",
            "The model 'BertModel' is not supported for text-classification. Supported models are ['AlbertForSequenceClassification', 'BartForSequenceClassification', 'BertForSequenceClassification', 'BigBirdForSequenceClassification', 'BigBirdPegasusForSequenceClassification', 'BioGptForSequenceClassification', 'BloomForSequenceClassification', 'CamembertForSequenceClassification', 'CanineForSequenceClassification', 'LlamaForSequenceClassification', 'ConvBertForSequenceClassification', 'CTRLForSequenceClassification', 'Data2VecTextForSequenceClassification', 'DebertaForSequenceClassification', 'DebertaV2ForSequenceClassification', 'DistilBertForSequenceClassification', 'ElectraForSequenceClassification', 'ErnieForSequenceClassification', 'ErnieMForSequenceClassification', 'EsmForSequenceClassification', 'FalconForSequenceClassification', 'FlaubertForSequenceClassification', 'FNetForSequenceClassification', 'FunnelForSequenceClassification', 'GemmaForSequenceClassification', 'GPT2ForSequenceClassification', 'GPT2ForSequenceClassification', 'GPTBigCodeForSequenceClassification', 'GPTNeoForSequenceClassification', 'GPTNeoXForSequenceClassification', 'GPTJForSequenceClassification', 'IBertForSequenceClassification', 'LayoutLMForSequenceClassification', 'LayoutLMv2ForSequenceClassification', 'LayoutLMv3ForSequenceClassification', 'LEDForSequenceClassification', 'LiltForSequenceClassification', 'LlamaForSequenceClassification', 'LongformerForSequenceClassification', 'LukeForSequenceClassification', 'MarkupLMForSequenceClassification', 'MBartForSequenceClassification', 'MegaForSequenceClassification', 'MegatronBertForSequenceClassification', 'MistralForSequenceClassification', 'MixtralForSequenceClassification', 'MobileBertForSequenceClassification', 'MPNetForSequenceClassification', 'MptForSequenceClassification', 'MraForSequenceClassification', 'MT5ForSequenceClassification', 'MvpForSequenceClassification', 'NezhaForSequenceClassification', 'NystromformerForSequenceClassification', 'OpenLlamaForSequenceClassification', 'OpenAIGPTForSequenceClassification', 'OPTForSequenceClassification', 'PerceiverForSequenceClassification', 'PersimmonForSequenceClassification', 'PhiForSequenceClassification', 'PLBartForSequenceClassification', 'QDQBertForSequenceClassification', 'Qwen2ForSequenceClassification', 'ReformerForSequenceClassification', 'RemBertForSequenceClassification', 'RobertaForSequenceClassification', 'RobertaPreLayerNormForSequenceClassification', 'RoCBertForSequenceClassification', 'RoFormerForSequenceClassification', 'SqueezeBertForSequenceClassification', 'StableLmForSequenceClassification', 'T5ForSequenceClassification', 'TapasForSequenceClassification', 'TransfoXLForSequenceClassification', 'UMT5ForSequenceClassification', 'XLMForSequenceClassification', 'XLMRobertaForSequenceClassification', 'XLMRobertaXLForSequenceClassification', 'XLNetForSequenceClassification', 'XmodForSequenceClassification', 'YosoForSequenceClassification'].\n"
          ]
        }
      ]
    },
    {
      "cell_type": "code",
      "source": [
        "train = pd.read_csv(\"train.csv\")\n",
        "test = pd.read_csv(\"test.csv\")"
      ],
      "metadata": {
        "id": "Lc2Vk2UyzPZf"
      },
      "execution_count": 20,
      "outputs": []
    },
    {
      "cell_type": "code",
      "source": [
        "aggregated_data = train.groupby(\"category\")[\"text\"].apply(lambda x: \" \".join(x)).reset_index()\n",
        "\n",
        "aggregated_data"
      ],
      "metadata": {
        "colab": {
          "base_uri": "https://localhost:8080/",
          "height": 423
        },
        "id": "xnbmi5BH3WYV",
        "outputId": "a83a7342-e8d9-478b-9053-a8e1f75005c8"
      },
      "execution_count": 21,
      "outputs": [
        {
          "output_type": "execute_result",
          "data": {
            "text/plain": [
              "                                   category  \\\n",
              "0                     Refund_not_showing_up   \n",
              "1                          activate_my_card   \n",
              "2                                 age_limit   \n",
              "3                   apple_pay_or_google_pay   \n",
              "4                               atm_support   \n",
              "..                                      ...   \n",
              "72                 virtual_card_not_working   \n",
              "73                       visa_or_mastercard   \n",
              "74                      why_verify_identity   \n",
              "75            wrong_amount_of_cash_received   \n",
              "76  wrong_exchange_rate_for_cash_withdrawal   \n",
              "\n",
              "                                                 text  \n",
              "0   I don't see my refund money yet in my account....  \n",
              "1   Please help me with my card.  It won't activat...  \n",
              "2   I want to open an account for my children How ...  \n",
              "3   Hi, I have an apple watch. How do I use it to ...  \n",
              "4   I can use this card at which ATMs? Can I use t...  \n",
              "..                                                ...  \n",
              "72  Why isn't my disposable virtual card working? ...  \n",
              "73  Is there a way I can have a mastercard? is it ...  \n",
              "74  Why do you have an identity check? I do not fe...  \n",
              "75  Why did I only receive a partial amount of wha...  \n",
              "76  The wrong exchange rate was applied to me whil...  \n",
              "\n",
              "[77 rows x 2 columns]"
            ],
            "text/html": [
              "\n",
              "  <div id=\"df-f8d41f50-cb77-4fdc-a667-83f21839ea69\" class=\"colab-df-container\">\n",
              "    <div>\n",
              "<style scoped>\n",
              "    .dataframe tbody tr th:only-of-type {\n",
              "        vertical-align: middle;\n",
              "    }\n",
              "\n",
              "    .dataframe tbody tr th {\n",
              "        vertical-align: top;\n",
              "    }\n",
              "\n",
              "    .dataframe thead th {\n",
              "        text-align: right;\n",
              "    }\n",
              "</style>\n",
              "<table border=\"1\" class=\"dataframe\">\n",
              "  <thead>\n",
              "    <tr style=\"text-align: right;\">\n",
              "      <th></th>\n",
              "      <th>category</th>\n",
              "      <th>text</th>\n",
              "    </tr>\n",
              "  </thead>\n",
              "  <tbody>\n",
              "    <tr>\n",
              "      <th>0</th>\n",
              "      <td>Refund_not_showing_up</td>\n",
              "      <td>I don't see my refund money yet in my account....</td>\n",
              "    </tr>\n",
              "    <tr>\n",
              "      <th>1</th>\n",
              "      <td>activate_my_card</td>\n",
              "      <td>Please help me with my card.  It won't activat...</td>\n",
              "    </tr>\n",
              "    <tr>\n",
              "      <th>2</th>\n",
              "      <td>age_limit</td>\n",
              "      <td>I want to open an account for my children How ...</td>\n",
              "    </tr>\n",
              "    <tr>\n",
              "      <th>3</th>\n",
              "      <td>apple_pay_or_google_pay</td>\n",
              "      <td>Hi, I have an apple watch. How do I use it to ...</td>\n",
              "    </tr>\n",
              "    <tr>\n",
              "      <th>4</th>\n",
              "      <td>atm_support</td>\n",
              "      <td>I can use this card at which ATMs? Can I use t...</td>\n",
              "    </tr>\n",
              "    <tr>\n",
              "      <th>...</th>\n",
              "      <td>...</td>\n",
              "      <td>...</td>\n",
              "    </tr>\n",
              "    <tr>\n",
              "      <th>72</th>\n",
              "      <td>virtual_card_not_working</td>\n",
              "      <td>Why isn't my disposable virtual card working? ...</td>\n",
              "    </tr>\n",
              "    <tr>\n",
              "      <th>73</th>\n",
              "      <td>visa_or_mastercard</td>\n",
              "      <td>Is there a way I can have a mastercard? is it ...</td>\n",
              "    </tr>\n",
              "    <tr>\n",
              "      <th>74</th>\n",
              "      <td>why_verify_identity</td>\n",
              "      <td>Why do you have an identity check? I do not fe...</td>\n",
              "    </tr>\n",
              "    <tr>\n",
              "      <th>75</th>\n",
              "      <td>wrong_amount_of_cash_received</td>\n",
              "      <td>Why did I only receive a partial amount of wha...</td>\n",
              "    </tr>\n",
              "    <tr>\n",
              "      <th>76</th>\n",
              "      <td>wrong_exchange_rate_for_cash_withdrawal</td>\n",
              "      <td>The wrong exchange rate was applied to me whil...</td>\n",
              "    </tr>\n",
              "  </tbody>\n",
              "</table>\n",
              "<p>77 rows × 2 columns</p>\n",
              "</div>\n",
              "    <div class=\"colab-df-buttons\">\n",
              "\n",
              "  <div class=\"colab-df-container\">\n",
              "    <button class=\"colab-df-convert\" onclick=\"convertToInteractive('df-f8d41f50-cb77-4fdc-a667-83f21839ea69')\"\n",
              "            title=\"Convert this dataframe to an interactive table.\"\n",
              "            style=\"display:none;\">\n",
              "\n",
              "  <svg xmlns=\"http://www.w3.org/2000/svg\" height=\"24px\" viewBox=\"0 -960 960 960\">\n",
              "    <path d=\"M120-120v-720h720v720H120Zm60-500h600v-160H180v160Zm220 220h160v-160H400v160Zm0 220h160v-160H400v160ZM180-400h160v-160H180v160Zm440 0h160v-160H620v160ZM180-180h160v-160H180v160Zm440 0h160v-160H620v160Z\"/>\n",
              "  </svg>\n",
              "    </button>\n",
              "\n",
              "  <style>\n",
              "    .colab-df-container {\n",
              "      display:flex;\n",
              "      gap: 12px;\n",
              "    }\n",
              "\n",
              "    .colab-df-convert {\n",
              "      background-color: #E8F0FE;\n",
              "      border: none;\n",
              "      border-radius: 50%;\n",
              "      cursor: pointer;\n",
              "      display: none;\n",
              "      fill: #1967D2;\n",
              "      height: 32px;\n",
              "      padding: 0 0 0 0;\n",
              "      width: 32px;\n",
              "    }\n",
              "\n",
              "    .colab-df-convert:hover {\n",
              "      background-color: #E2EBFA;\n",
              "      box-shadow: 0px 1px 2px rgba(60, 64, 67, 0.3), 0px 1px 3px 1px rgba(60, 64, 67, 0.15);\n",
              "      fill: #174EA6;\n",
              "    }\n",
              "\n",
              "    .colab-df-buttons div {\n",
              "      margin-bottom: 4px;\n",
              "    }\n",
              "\n",
              "    [theme=dark] .colab-df-convert {\n",
              "      background-color: #3B4455;\n",
              "      fill: #D2E3FC;\n",
              "    }\n",
              "\n",
              "    [theme=dark] .colab-df-convert:hover {\n",
              "      background-color: #434B5C;\n",
              "      box-shadow: 0px 1px 3px 1px rgba(0, 0, 0, 0.15);\n",
              "      filter: drop-shadow(0px 1px 2px rgba(0, 0, 0, 0.3));\n",
              "      fill: #FFFFFF;\n",
              "    }\n",
              "  </style>\n",
              "\n",
              "    <script>\n",
              "      const buttonEl =\n",
              "        document.querySelector('#df-f8d41f50-cb77-4fdc-a667-83f21839ea69 button.colab-df-convert');\n",
              "      buttonEl.style.display =\n",
              "        google.colab.kernel.accessAllowed ? 'block' : 'none';\n",
              "\n",
              "      async function convertToInteractive(key) {\n",
              "        const element = document.querySelector('#df-f8d41f50-cb77-4fdc-a667-83f21839ea69');\n",
              "        const dataTable =\n",
              "          await google.colab.kernel.invokeFunction('convertToInteractive',\n",
              "                                                    [key], {});\n",
              "        if (!dataTable) return;\n",
              "\n",
              "        const docLinkHtml = 'Like what you see? Visit the ' +\n",
              "          '<a target=\"_blank\" href=https://colab.research.google.com/notebooks/data_table.ipynb>data table notebook</a>'\n",
              "          + ' to learn more about interactive tables.';\n",
              "        element.innerHTML = '';\n",
              "        dataTable['output_type'] = 'display_data';\n",
              "        await google.colab.output.renderOutput(dataTable, element);\n",
              "        const docLink = document.createElement('div');\n",
              "        docLink.innerHTML = docLinkHtml;\n",
              "        element.appendChild(docLink);\n",
              "      }\n",
              "    </script>\n",
              "  </div>\n",
              "\n",
              "\n",
              "<div id=\"df-03247c78-f942-4826-8fc9-2793e574a5ba\">\n",
              "  <button class=\"colab-df-quickchart\" onclick=\"quickchart('df-03247c78-f942-4826-8fc9-2793e574a5ba')\"\n",
              "            title=\"Suggest charts\"\n",
              "            style=\"display:none;\">\n",
              "\n",
              "<svg xmlns=\"http://www.w3.org/2000/svg\" height=\"24px\"viewBox=\"0 0 24 24\"\n",
              "     width=\"24px\">\n",
              "    <g>\n",
              "        <path d=\"M19 3H5c-1.1 0-2 .9-2 2v14c0 1.1.9 2 2 2h14c1.1 0 2-.9 2-2V5c0-1.1-.9-2-2-2zM9 17H7v-7h2v7zm4 0h-2V7h2v10zm4 0h-2v-4h2v4z\"/>\n",
              "    </g>\n",
              "</svg>\n",
              "  </button>\n",
              "\n",
              "<style>\n",
              "  .colab-df-quickchart {\n",
              "      --bg-color: #E8F0FE;\n",
              "      --fill-color: #1967D2;\n",
              "      --hover-bg-color: #E2EBFA;\n",
              "      --hover-fill-color: #174EA6;\n",
              "      --disabled-fill-color: #AAA;\n",
              "      --disabled-bg-color: #DDD;\n",
              "  }\n",
              "\n",
              "  [theme=dark] .colab-df-quickchart {\n",
              "      --bg-color: #3B4455;\n",
              "      --fill-color: #D2E3FC;\n",
              "      --hover-bg-color: #434B5C;\n",
              "      --hover-fill-color: #FFFFFF;\n",
              "      --disabled-bg-color: #3B4455;\n",
              "      --disabled-fill-color: #666;\n",
              "  }\n",
              "\n",
              "  .colab-df-quickchart {\n",
              "    background-color: var(--bg-color);\n",
              "    border: none;\n",
              "    border-radius: 50%;\n",
              "    cursor: pointer;\n",
              "    display: none;\n",
              "    fill: var(--fill-color);\n",
              "    height: 32px;\n",
              "    padding: 0;\n",
              "    width: 32px;\n",
              "  }\n",
              "\n",
              "  .colab-df-quickchart:hover {\n",
              "    background-color: var(--hover-bg-color);\n",
              "    box-shadow: 0 1px 2px rgba(60, 64, 67, 0.3), 0 1px 3px 1px rgba(60, 64, 67, 0.15);\n",
              "    fill: var(--button-hover-fill-color);\n",
              "  }\n",
              "\n",
              "  .colab-df-quickchart-complete:disabled,\n",
              "  .colab-df-quickchart-complete:disabled:hover {\n",
              "    background-color: var(--disabled-bg-color);\n",
              "    fill: var(--disabled-fill-color);\n",
              "    box-shadow: none;\n",
              "  }\n",
              "\n",
              "  .colab-df-spinner {\n",
              "    border: 2px solid var(--fill-color);\n",
              "    border-color: transparent;\n",
              "    border-bottom-color: var(--fill-color);\n",
              "    animation:\n",
              "      spin 1s steps(1) infinite;\n",
              "  }\n",
              "\n",
              "  @keyframes spin {\n",
              "    0% {\n",
              "      border-color: transparent;\n",
              "      border-bottom-color: var(--fill-color);\n",
              "      border-left-color: var(--fill-color);\n",
              "    }\n",
              "    20% {\n",
              "      border-color: transparent;\n",
              "      border-left-color: var(--fill-color);\n",
              "      border-top-color: var(--fill-color);\n",
              "    }\n",
              "    30% {\n",
              "      border-color: transparent;\n",
              "      border-left-color: var(--fill-color);\n",
              "      border-top-color: var(--fill-color);\n",
              "      border-right-color: var(--fill-color);\n",
              "    }\n",
              "    40% {\n",
              "      border-color: transparent;\n",
              "      border-right-color: var(--fill-color);\n",
              "      border-top-color: var(--fill-color);\n",
              "    }\n",
              "    60% {\n",
              "      border-color: transparent;\n",
              "      border-right-color: var(--fill-color);\n",
              "    }\n",
              "    80% {\n",
              "      border-color: transparent;\n",
              "      border-right-color: var(--fill-color);\n",
              "      border-bottom-color: var(--fill-color);\n",
              "    }\n",
              "    90% {\n",
              "      border-color: transparent;\n",
              "      border-bottom-color: var(--fill-color);\n",
              "    }\n",
              "  }\n",
              "</style>\n",
              "\n",
              "  <script>\n",
              "    async function quickchart(key) {\n",
              "      const quickchartButtonEl =\n",
              "        document.querySelector('#' + key + ' button');\n",
              "      quickchartButtonEl.disabled = true;  // To prevent multiple clicks.\n",
              "      quickchartButtonEl.classList.add('colab-df-spinner');\n",
              "      try {\n",
              "        const charts = await google.colab.kernel.invokeFunction(\n",
              "            'suggestCharts', [key], {});\n",
              "      } catch (error) {\n",
              "        console.error('Error during call to suggestCharts:', error);\n",
              "      }\n",
              "      quickchartButtonEl.classList.remove('colab-df-spinner');\n",
              "      quickchartButtonEl.classList.add('colab-df-quickchart-complete');\n",
              "    }\n",
              "    (() => {\n",
              "      let quickchartButtonEl =\n",
              "        document.querySelector('#df-03247c78-f942-4826-8fc9-2793e574a5ba button');\n",
              "      quickchartButtonEl.style.display =\n",
              "        google.colab.kernel.accessAllowed ? 'block' : 'none';\n",
              "    })();\n",
              "  </script>\n",
              "</div>\n",
              "    </div>\n",
              "  </div>\n"
            ],
            "application/vnd.google.colaboratory.intrinsic+json": {
              "type": "dataframe",
              "variable_name": "aggregated_data",
              "summary": "{\n  \"name\": \"aggregated_data\",\n  \"rows\": 77,\n  \"fields\": [\n    {\n      \"column\": \"category\",\n      \"properties\": {\n        \"dtype\": \"string\",\n        \"num_unique_values\": 77,\n        \"samples\": [\n          \"atm_support\",\n          \"extra_charge_on_statement\",\n          \"card_about_to_expire\"\n        ],\n        \"semantic_type\": \"\",\n        \"description\": \"\"\n      }\n    },\n    {\n      \"column\": \"text\",\n      \"properties\": {\n        \"dtype\": \"string\",\n        \"num_unique_values\": 77,\n        \"samples\": [\n          \"I can use this card at which ATMs? Can I use the card at any cash machine? What locations can I get money from? What ATMs take this card? Which ATM's can I use to make a withdrawal? Do all ATMs accept this card? Will this card work at any ATM? Which ATMs am I allowed to get money from? Where is the closest ATM to me? Which ATMs accept this bill of fare ? Do I have to use a bank approved ATM to withdraw money? How do I withdraw money? Can I use this card at any ATM? What locations allow me to withdraw money? What ATMs accept my card? Can I use my card to withdraw from my account? Can you tell me where I can withdraw money? What kind of ATMs would this card be accepted at? Are there specific ATM's that I can draw money from? Where can money withdrawals be made? Do I have to use bank approved ATM's Where can I find Mastercard ATMs? What ATMs can I use my card at? What ATM machines allow this card? Where can I do a cash withdrawal? Where should I withdraw money from? Where are the ATMs that accept this card? Is there a way to find an ATM around me? Will any ATM's decline my card? What ATMs can I use my card? What cash stations take this card? \\r\\nAt which ATMs can I use this card? Please provide me a list of ATMs that accept my card. Can I use my card at an ATM? Where is the closest ATM I can use? Where is the nearest Mastercard ATM? Where can I get money from my card? How can I find an ATM that accepts this card? I need an ATM right now! Which ATMs accept Mastercard? What is the closest ATM? What ATMs use this card? What ATMs can I use this card? Can I get money out of any machine? Is the closest ATM to me within 2 miles? I need to withdraw money. Where can I do that? Can I use my card in another institutions ATM? Where is a ATM that accepts Mastercard? Where are the Mastercard ATMs? Where can I withdraw money from? \\r\\nWhere can I withdraw money from? Can I use a different bank ATM than my own? need to know places i can withdraw money The card can be used at which ATMs? What's the closest place to withdraw money? Is there a list of ATMs that take this card? Is there a Mastercard ATM nearby? Am I limited to what ATM I can use my card? how do I know where I can get money withdrawn? Tell me what ATMs take this card. Where are the ATMs that I can use Mastercard? Where is an ATM? Which locations can I withdraw money from? Can this card be used at all ATMs? Are there any ATM's near me that accept this card? I need help from someone in your department with finding my nearest ATM. what are the locations i can withdraw money Which ATMs accept this circuit board ? How many ATMs will take this card? What ATMs can I use this card at? Is this card accepted by ATMs? Are there only certain ATM machines where I can use this card? Where can I find a Mastercard ATM? Tell me what ATMs use this card. Which ATMs take the card? How far is the closest ATM from me? Can you tell me the ATMs I can use with my card? Where is a Mastercard ATM? I need to know where I can withdraw money. Are there specific ATM's I can use with this card? Where can I find an ATM? How can I tell if an AMT will take this card? How do I know it is a Mastercard ATM? ATMs, which ones will accept this card? What ATM locations are near me? What ATM accepts Mastercard? Can I withdraw from any ATM?\",\n          \"Why is there an extra fee on my statement? Why did they charge me an extra $1? Why is there a 1 euro fee on my statement? Why do I see an extra \\u00a31 charge on my statement? I am inquiring about a $1 charge on my statement. What is the $1 transaction on my account? What is this extra pound charge for? I was charged $1 in a transaction. What is the reason for the extra fee on my statement? There is a pending 1\\u00a3 charge on my statement.  I haven't purchased anything for 1\\u00a3.  Why is it on my statement? Have have a small charge on my account from someone I purchased with but I'm not sure what it relates to. I have a strange transaction for \\u00a31 on my statement, what is that? I have no idea why there is a dollar that has been charged to my account. I have been charged a pound for something that appears on my statement Why is there a $1 charge on my statement? Where did this extra \\u20ac1 fee on my statement come from? Is there a reason why there is an extra \\u00a31 charge on my account? Can you tell me what this fee is on my statement? Why has another fee been placed on my statement? There has been a charge pending on my account statement that I can't figue out it's for a dollar. \\u20ac1 was in my statement as an extra fee. Why is there an extra charge on my statement. Hey, I got charged extra for some reason when I purchased an app. Is this a hidden fee or something? I don't think it's very cool. I see a $1 charge in a transaction. I had to pay a pound more than I anticipated! There is a \\u20ac1 extra fee in my statement My statement contained a one pound extra fee I checked my account today and saw that I was charged an extra pound that I did not spend. What is the extra \\u20ac1 on my statement for? I see I was charged $1 for a transaction. $1 charge in transaction. I just looked at my app and it seems I was charged extra, why is that? Why is there an extra pound charge that is pending? I was wrongfully charged one pound. Why is there an extra fee charged? I just checked my statement and saw a $1 charge, why is it there? There is an odd 1\\u00a3 charge that appears as pending on my statement. What's the reason for that? I haven't purchased anything for a pound. Why have I been charged an extra pound? I think I may have been charged $1 extra on my app.  Could you provide some insight as to why this may have happened? Why do I see an extra \\u20ac1 charge on my statement? Is the 1 pound charge I can see an error or an incorrect entry? Why did I get a $1 extra fee on the statement? Why was I charged $1 in a transaction? why is there a service fee on my statement? My statement shows a 1\\u00a3 purchase pending. I do not remember making this purchase, please let me know what this is about. I am seeing and extra 1$ charged to my account and wanted to know about it. Why did you charge me extra? An extra pound was charged! I got billed an extra pound! Why do I see an extra fee on my statement? There must have been a mistake, why was I charged an extra pound? When I look at my statement there is an extra fee, that is for what? There is an extra small charge on my card! What do I do? I looked at my statement, and there is a charge for 1\\u00a3 that I don't recognize.  Why is it on there? I got a \\u20ac1 extra fee in my statement What is the extra fee on my statement? Why have I been charged an extra \\u00a31? In my statement, I got a \\u20ac1 extra fee. Why is there a charge for $1 on my account? On my statement, there is a strange 1\\u00a3 charge that appears as pending. What's causing that? I haven't purchased anything that's just a pound. what was the $1 fee i got I see a charge of 1L I do not recognize on my statement I was overcharged one extra pound! I noticed an extra pound charge? I have been charged an extra pound! Why does my statement show a $1 charge on my account? Why has my card been charged an extra pound? Why does my statement have an extra fee? There is a  \\u20ac1 fee on my account I didn't authorize I was made to pay an additional pound! I was charged an extra pound for no reason. Why is that? It appears I have a fee in my statement. When did I get a $1 extra fee on my statement? What is this fee debit on my account? I was charged an extra dollar on my account and would like to know the reason. What is this extra \\u20ac1 fee about? I was overcharged a pound. Why do i have an extra fee on my statement? What was the $1 charge for on my statement? I had a dollar charged to my account that's still pending and wanted to know what the charge is for? I was charged extra or a hidden fee when I purchased something from you. What's the deal? I didn't authorize that charge. What am I being charged an extra pound when I haven't bought something worth that much? why was i charged a small amount Do you also have this extra fee on your statement? Why did I get charged one pound seemingly randomly? Why was I charged an extra pound? I am being charged a pound out of nowhere. What is this? A pending charge of 1L appears on my statement.  Please explain as I have not made a purchase for that amount Why did you guys charge me an extra \\u20ac1? Why was I charged more than I should have been? What is the fee on my statement for? Hello, there seems to be a billing mistake associated with my account.  My app was charged $1 more than it should have.  Could you please explain why this may have happened? Why is there a pending hold on one pound on my statement? I need some help figuring out what this strange payment is on my account. It's stays pending and won't go away. What is this $1 charge on my account? There is a 1\\u00a3 charge that appears as pending on my statement. What is that? I haven't purchased anything for a pound there. Why did a transaction I made charge me $1? There seems to be an additional charge of \\u00a31 on my statement, what is the reason for this? I still have not received an answer as to why I was charged $1.00 in a transaction? Why does my statement show an extra fee? There's an extra fee on my statement, why is that? There is some odd 1\\u00a3 charge that appears as pending on my statement. What's that about? Pretty sure I haven't purchased anything for a pound there. There is a pending payment on my account that is very strange. I don't remember making this and it won't go away. Can you help me figure this out? Can you tell me about why the account I have was charged an extra 1$ why does my statement contain an extra fee? Can you tell me why I was charged $1 for a transaction? Why is there an extra \\u20ac1 fee in my statement? There is an extra charge on my account I didn't authorise, it's just \\u00a31, what is it? What is the dollar that I have pending on my statement there? I see an extra $1\\u00a0 charge on my statement, why is this? Can you please explain to me why there is an extra \\u20ac1 fee in my statement? There is an unexplained $1\\u00a0charge on my statement, can you please explain this to me? How can I find out about an extra fee on my statement? Hello, I see that I have been charged an extra $1 on my app.  Could you please provide me with a reason for this charge? In my statement, there was an extra \\u20ac1 fee Is there a reason there's an extra fee on my statement? What is this extra fee on my statement. What does the \\u20ac1 fee mean? There's a \\u20ac1 fee on my statement, why? Why was I charged an additional $1? I checked my statement and am being charged one pound. Where did this charge come from? I do not know why I was charged for the $1 transaction. I wanted to know about a pending dollar that is on my statement. I'm pretty frustrated about a pound charge that keeps  showing up in my account statement. It's listed in the app as \\\"pending\\\", it never changes, and now I'm thinking someone's hacked my account! How come there is a $1 extra charge on my statement? I was charged an extra pound. There is a charge for an additional pound. There is a strange 1\\u00a3 charge that appears as pending on my statement. What's the cause for that? I haven't purchased anything for a pound. I need to know what these extra charges are on my statement? How come there is an extra fee on my statement? Why is there an extra charge of 1 dollar on my statement? I checked my statement and saw a charge of one pound, where is this charge coming from? I don't understand why there is an extra \\u20ac1 fee in my statement. Why was I charged extra on my app? Why was my account assessed a fee? There is an extra 1\\u00a3 charge on my app. Why did you charge me extra? Why i'm I being charged an extra pound The $1.00 has still not been reverted as indicated in the previous email. My statement shows and extra 1$ that was charged to it and I would like to know why. There is an extra $1 charge on my statement, why is that? Is the 1 pound charge going to be reimbursed on my card? I  see an extra 1\\u00a3 charge on my app. Why did It charge me extra? Why is there a fee added to my statement? Why would there be an extra charge on my app? There is a charge for 1\\u00a3 on my statement.  I do not think that I bought anything that costed 1\\u00a3.  What is going on? Why does my transaction have an added fee? There is  an extra 1\\u00a3 charge on my app. Why did it charge me extra? Why is there an additional fee showing on the statement I received? How come I was charged a transaction of $1? Please explain the charge of 1L in error.  I have purchased nothing in this amount. Where did the  \\u20ac1 fee in my statement come from What is this random charge of one pound doing on my account? I had to pay one pound more than the set price! My statement is showing an extra \\u00a31 charge and I am unsure why. Is there an explanation for this? Do I have a $1 extra fee on the statement? Why is it showing that my account has been charged a dollar that is showing as pending? I do not understand why there is a pending 1\\u00a3 charge on my statement, I do not recall making this transaction. Can you please tell me what this is about? My statement shows an extra fee - what is it? What is this \\u20ac1 charge? How long will the $1 charge show as pending? I've been charged an extra \\u00a31 and I don't know what it's for I was overcharged an additional pound. I've been charged an extra \\u00a31 and I don't know why My statement is showing I was Charged a dollar and I am not sure why. Why is there a \\u20ac1 charge on my statement? An extra fee of \\u20ac1 was in my statement\",\n          \"Are there any express fees if i want my new card faster? Do I need to do something to get a new card once it expires? I am overseas in China, can I get a replacement card? Can I get a new card with new expiration date in China? Are there restrictions on new cards in China? Need a new card, mine is expiring. I need a new card to replace an expired one. Will it cost anything, and how soon? My card expires next week. How do I get a new one? What is the cost and time frame of getting a new card? Is it possible to get a new card in China? Does it cost much or take long to get a new card? Mine is about to expire. Are there steps I need to take before my card expires? My card is about to expire.  How do I get a new card? Will I receive a new card when mine expires? My card is due to expire What do I do if my card expires soon? If I am in China, can I still order a new card and if so, how? In a month, my card will reach its expiration date, am I required to request the next card? What happens if my card expires? My card's expiring a month from now, should I place an order for the new card? Will I be sent a new card before mine expires? The date my card expires is coming up How can I replace an expired card? How do I get a new card sent to China? After my card expires what should I do? My card is about to expire. What do I need to do to keep using my card? My card will expire soon, do I need to order a new one? Where can I have a new bank card sent to China? I'm in China and need a new card. Please help. Tell me what I should do after my card expires. How do I know when my card will expire? What is the procedure for an expired card? How do I order a new card when my old one is ready to expire? What do I do if my card is about to expire? What happens after my card expires? Where can I order a card when I am in China? How do I replace a card that's going to expire? If my card becomes expired what can I do? What steps should I take before my card expires? I need a new card before it expires. When will I get a new card when I order it, and how much will it cost. Can I wait for you to send me a new card when mine's about to expire? When my card expires soon, how fast is the replacement card sent and what are the costs? How do I order a new card? The current one is about to expire. Can I order a new card to China? Is ordering a new card from China available? What to do if my card is about to expire? My card is about to expire.  Are there any costs with a replacement card?  How quick do you mail it to me? Is there a way to order a new card while in China? The expiration date on my card is very soon, and I need to get a new one.  What are the price and delivery options for my replacement card? If my card is about to expire how long would it take to receive a new one and how much would that cost me? My card is about to expire.  How do I order another? My card is expiring soon, How do I order a new card? I need to order a new card as my old one will expire soon. Can you tell me how to order a new one? When my card expires what is the cost of a replacement and how fast? I will need a new card because mine is almost expired.  How fast do I get a replacement and what is the cost? Do I need to order a new card if mine is expiring? My card will expire next month, will I need to order a new one? Am I able to get this shipped to China? My card expires very soon.  What is the cost and delivery time to get a new one? The expiration date for my card is coming up, how do I get a new card? Tell me how to replace my expired card. Can I order a new card by phone? My card is expiring soon. My card is about to expired what will happen? What should I do when my card reaches its expiry date? Please inform me how to get a new card as mine is about to expire. My card expires soon, will you send me one automatically? want a new card what are the fees My card's expiration date is close. What will happen after my card expires? Can I get a new card in China? My card is about to expire, what do I do? Can I order a new card with the app? How do I replace my card before it expires next month? My card is expiring so how fast can I get a new one and how much will it be? I need a new card, my old card is expiring. How do I replace my card before it expires? What can I expect at card expiration? If I order a new card, how much will it be and how long will it take me to get it? How can I get a card sent to China? What should I do once my card expires? How do I order a new card if my current one is about to expire? I want to get a new card before my current one expires, how much will it cost me and how long will it take to get here. My card is going to expire, what do I do? Do I need to order a new card before it expires? Does it cost anything to get a new card? Mine's about to expire and I'd also like to know how long it takes to get the new one. My bank card has expired, how can I get a new physical card? how to get a new card in china How do I go about ordering a new bank card? I have a card that expires in the coming month, do I have to specifically ask for the updated card? If my card expires next month, will I need to order a new one? The expiration of my card is near, how do I order a new card? What do I do after my card expires? Do I need to re-apply to order a new card when my old one's about to expire? I need to renew a card that's about to expire If my card is going to expire this month, do I need to order a new one? Soon my card will expire, how do I get a new one? Can I order a new card?  Mine is about to expire. My card is due to expire soon. Can I keep using my card after it expires? How do I replace my card? Are new cards available from China? My card is almost going to expire. I'm in China and really need a new card. My card will expire soon, When do I need to order a new one? Does it cost anything and how long would it take to get a card if I need a new one? My card is about to expire. My card is about to expire. Do I have to go to a branch to order a new card? Will you send me a new card in China? What do I do about my expired card? Can I have a new card shipped to China? Am I able to have a card sent to China? My card's expiration is approaching, how do I replace it. How do I get a new card when my old one expires? What happens when my card expires? What is the process when my card is due to expire? My card expires soon My card is almost expired.  How fast will I get a new one and what is the cost? What is the process to get a new card when your old one expires? Help me order a new card that's going to be expired soon. What do I do when I get close to the expiration date of my card? My card is about to expire.  Where do I get a new one. want to get a new card in china Can you give me info about what to do when my card expires? My card has an expiration date, will you send a new one automatically? Can I get a new card even though I am in China? My card is expiring, how do I get a new one? I think my card is expiring, what happens then? How do I get a new expiration date?\"\n        ],\n        \"semantic_type\": \"\",\n        \"description\": \"\"\n      }\n    }\n  ]\n}"
            }
          },
          "metadata": {},
          "execution_count": 21
        }
      ]
    },
    {
      "cell_type": "code",
      "source": [
        "def get_bert_embeddings(text):\n",
        "    inputs = tokenizer(text, return_tensors=\"pt\", padding=True, truncation=True, max_length=512)\n",
        "    with torch.no_grad():\n",
        "        outputs = model(**inputs)\n",
        "        embeddings = outputs.last_hidden_state.mean(dim=1)\n",
        "        normed_embeddings = torch.nn.functional.normalize(embeddings, p=2, dim=1)\n",
        "    return embeddings"
      ],
      "metadata": {
        "id": "S0Z_qh0y3Yqs"
      },
      "execution_count": 22,
      "outputs": []
    },
    {
      "cell_type": "code",
      "source": [
        "#aggregated_data['bert_embeddings'] = aggregated_data['text'].apply(lambda x: get_bert_embeddings(x))\n",
        "\n",
        "#print(aggregated_data.head())"
      ],
      "metadata": {
        "id": "GBTVm2Ip3gl-"
      },
      "execution_count": 23,
      "outputs": []
    },
    {
      "cell_type": "code",
      "source": [
        "#aggregated_data.head()"
      ],
      "metadata": {
        "id": "f0gYWMv24quh"
      },
      "execution_count": 24,
      "outputs": []
    },
    {
      "cell_type": "code",
      "source": [
        "bert_embeddings = aggregated_data['text'].apply(lambda x: get_bert_embeddings(x))\n",
        "print(bert_embeddings)"
      ],
      "metadata": {
        "colab": {
          "base_uri": "https://localhost:8080/"
        },
        "id": "nHm0b-pDHCgu",
        "outputId": "391f31fc-1597-40d1-ee1f-897cb0e39420"
      },
      "execution_count": 25,
      "outputs": [
        {
          "output_type": "stream",
          "name": "stdout",
          "text": [
            "0     [[tensor(-0.2145), tensor(-0.0850), tensor(0.2...\n",
            "1     [[tensor(0.0172), tensor(-0.1680), tensor(0.29...\n",
            "2     [[tensor(0.0514), tensor(0.0432), tensor(0.214...\n",
            "3     [[tensor(-0.1866), tensor(-0.0686), tensor(0.2...\n",
            "4     [[tensor(-0.1690), tensor(-0.0749), tensor(0.3...\n",
            "                            ...                        \n",
            "72    [[tensor(0.0966), tensor(-0.2345), tensor(0.38...\n",
            "73    [[tensor(0.1161), tensor(-0.1861), tensor(0.32...\n",
            "74    [[tensor(0.0791), tensor(0.0919), tensor(0.136...\n",
            "75    [[tensor(-0.3698), tensor(-0.1893), tensor(0.1...\n",
            "76    [[tensor(-0.3159), tensor(-0.1084), tensor(0.2...\n",
            "Name: text, Length: 77, dtype: object\n"
          ]
        }
      ]
    },
    {
      "cell_type": "code",
      "source": [
        "print(bert_embeddings.shape)"
      ],
      "metadata": {
        "colab": {
          "base_uri": "https://localhost:8080/"
        },
        "id": "3wrzrJ9RIc5Y",
        "outputId": "e574cc3e-f4f4-40d8-ec74-26da834d2932"
      },
      "execution_count": 30,
      "outputs": [
        {
          "output_type": "stream",
          "name": "stdout",
          "text": [
            "(77,)\n"
          ]
        }
      ]
    },
    {
      "cell_type": "code",
      "source": [
        "tfidf_vectorizer = TfidfVectorizer(max_features=1000,\n",
        "                                   min_df=1,\n",
        "                                   max_df=0.85,\n",
        "                                   ngram_range=(1, 2))"
      ],
      "metadata": {
        "id": "RDk3awR_c3dt"
      },
      "execution_count": 31,
      "outputs": []
    },
    {
      "cell_type": "code",
      "source": [
        "X_tfidf = tfidf_vectorizer.fit_transform(aggregated_data['text'])"
      ],
      "metadata": {
        "id": "50yGh55Gc8nf"
      },
      "execution_count": 32,
      "outputs": []
    },
    {
      "cell_type": "code",
      "source": [
        "X_tfidf.shape"
      ],
      "metadata": {
        "id": "eglg1ohteDXz",
        "colab": {
          "base_uri": "https://localhost:8080/"
        },
        "outputId": "458a0c14-2e55-44a9-ab40-3a5d21914f64"
      },
      "execution_count": 33,
      "outputs": [
        {
          "output_type": "execute_result",
          "data": {
            "text/plain": [
              "(77, 1000)"
            ]
          },
          "metadata": {},
          "execution_count": 33
        }
      ]
    },
    {
      "cell_type": "code",
      "source": [
        "print(X_tfidf.toarray())"
      ],
      "metadata": {
        "id": "3CMex6gzXnMA",
        "colab": {
          "base_uri": "https://localhost:8080/"
        },
        "outputId": "70ec8164-b4bf-478e-902b-efbf9e52331f"
      },
      "execution_count": 34,
      "outputs": [
        {
          "output_type": "stream",
          "name": "stdout",
          "text": [
            "[[0.         0.         0.00902898 ... 0.01262894 0.00707061 0.        ]\n",
            " [0.         0.         0.00819875 ... 0.00254837 0.00570707 0.        ]\n",
            " [0.         0.         0.01975013 ... 0.         0.0412436  0.        ]\n",
            " ...\n",
            " [0.         0.         0.00722214 ... 0.         0.         0.        ]\n",
            " [0.15760424 0.17925056 0.00435062 ... 0.         0.00908528 0.        ]\n",
            " [0.         0.         0.         ... 0.         0.01352128 0.00480681]]\n"
          ]
        }
      ]
    },
    {
      "cell_type": "markdown",
      "source": [
        "How to compare the effect of embeddings and tfidf feature matrix? Compare the models (Bert and others using tfidf methods?)"
      ],
      "metadata": {
        "id": "ivXII2ukAMqj"
      }
    },
    {
      "cell_type": "code",
      "source": [
        "tfidf_matrix=X_tfidf.toarray()"
      ],
      "metadata": {
        "id": "6yFWmUTjAneA"
      },
      "execution_count": 16,
      "outputs": []
    },
    {
      "cell_type": "code",
      "source": [
        "\"\"\"\n",
        "embeddings_matrix = np.array(bert_embeddings)\n",
        "\n",
        "bert_embeddings_np = bert_embeddings.to_numpy()\n",
        "bert_embeddings_np = np.stack(bert_embeddings_np)\n",
        "bert_embeddings_np_2 = bert_embeddings_np.reshape(bert_embeddings_np.shape[0], bert_embeddings_np.shape[2])\n",
        "\n",
        "\n",
        "pca = PCA(n_components=2)\n",
        "tfidf_pca = pca.fit_transform(tfidf_matrix)\n",
        "embeddings_pca = pca.fit_transform(bert_embeddings_np_2)\n",
        "\n",
        "\n",
        "plt.figure(figsize=(12, 6))\n",
        "\n",
        "plt.subplot(1, 2, 1)\n",
        "plt.scatter(tfidf_pca[:, 0], tfidf_pca[:, 1], label='TF-IDF PCA')\n",
        "plt.title(\"Tfidf PCA\")\n",
        "plt.legend()\n",
        "\n",
        "plt.subplot(1, 2, 2)\n",
        "plt.scatter(embeddings_pca[:, 0], embeddings_pca[:, 1], label='Embeddings PCA')\n",
        "plt.title(\"Embeddings PCA\")\n",
        "plt.legend()\n",
        "\n",
        "plt.show()\n",
        "\"\"\""
      ],
      "metadata": {
        "colab": {
          "base_uri": "https://localhost:8080/",
          "height": 88
        },
        "id": "HbAWGomfGQiO",
        "outputId": "79aa927a-3731-4a17-8d6c-b1c6caf062b8"
      },
      "execution_count": 52,
      "outputs": [
        {
          "output_type": "execute_result",
          "data": {
            "text/plain": [
              "'\\nembeddings_matrix = np.array(bert_embeddings)\\n\\nbert_embeddings_np = bert_embeddings.to_numpy()\\nbert_embeddings_np = np.stack(bert_embeddings_np)\\nbert_embeddings_np_2 = bert_embeddings_np.reshape(bert_embeddings_np.shape[0], bert_embeddings_np.shape[2])\\n\\n\\npca = PCA(n_components=2)\\ntfidf_pca = pca.fit_transform(tfidf_matrix)\\nembeddings_pca = pca.fit_transform(bert_embeddings_np_2)\\n\\n\\nplt.figure(figsize=(12, 6))\\n\\nplt.subplot(1, 2, 1)\\nplt.scatter(tfidf_pca[:, 0], tfidf_pca[:, 1], label=\\'TF-IDF PCA\\')\\nplt.title(\"Tfidf PCA\")\\nplt.legend()\\n\\nplt.subplot(1, 2, 2)\\nplt.scatter(embeddings_pca[:, 0], embeddings_pca[:, 1], label=\\'Embeddings PCA\\')\\nplt.title(\"Embeddings PCA\")\\nplt.legend()\\n\\nplt.show()\\n'"
            ],
            "application/vnd.google.colaboratory.intrinsic+json": {
              "type": "string"
            }
          },
          "metadata": {},
          "execution_count": 52
        }
      ]
    },
    {
      "cell_type": "code",
      "source": [],
      "metadata": {
        "id": "68S3F0ydGa_J"
      },
      "execution_count": null,
      "outputs": []
    }
  ]
}