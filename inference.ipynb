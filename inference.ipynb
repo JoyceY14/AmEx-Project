{
 "cells": [
  {
   "cell_type": "code",
   "execution_count": 1,
   "metadata": {},
   "outputs": [],
   "source": [
    "from transformers import AutoTokenizer, AutoModelForSequenceClassification, pipeline\n",
    "from transformers import TextClassificationPipeline\n",
    "import pandas as pd\n",
    "import numpy as np\n",
    "import matplotlib.pyplot as plt"
   ]
  },
  {
   "cell_type": "markdown",
   "metadata": {},
   "source": [
    "## Import Data"
   ]
  },
  {
   "cell_type": "code",
   "execution_count": 2,
   "metadata": {},
   "outputs": [],
   "source": [
    "# Import train and test data\n",
    "train = pd.read_csv('train.csv')\n",
    "test = pd.read_csv('test.csv')\n",
    "\n",
    "# Separate train labels and text\n",
    "train_labels = train['category']\n",
    "train_text = train['text']\n",
    "train_labels_list = train_labels.tolist()\n",
    "\n",
    "# Separate test labels and text\n",
    "test_labels = test['category']\n",
    "test_text = test['text']\n",
    "test_labels_list = test_labels.tolist()"
   ]
  },
  {
   "cell_type": "markdown",
   "metadata": {},
   "source": [
    "## Load in Model"
   ]
  },
  {
   "cell_type": "code",
   "execution_count": 3,
   "metadata": {},
   "outputs": [
    {
     "name": "stderr",
     "output_type": "stream",
     "text": [
      "/Users/wally/anaconda3/envs/INFO4900/lib/python3.11/site-packages/transformers/pipelines/text_classification.py:104: UserWarning: `return_all_scores` is now deprecated,  if want a similar funcionality use `top_k=None` instead of `return_all_scores=True` or `top_k=1` instead of `return_all_scores=False`.\n",
      "  warnings.warn(\n",
      "Xformers is not installed correctly. If you want to use memorry_efficient_attention to accelerate training use the following command to install Xformers\n",
      "pip install xformers.\n"
     ]
    }
   ],
   "source": [
    "# Load in the model\n",
    "model_id = 'philschmid/BERT-Banking77'\n",
    "tokenizer = AutoTokenizer.from_pretrained(model_id)\n",
    "model = AutoModelForSequenceClassification.from_pretrained(model_id)\n",
    "classifier = pipeline('text-classification', tokenizer=tokenizer, model=model, return_all_scores=True)"
   ]
  },
  {
   "cell_type": "markdown",
   "metadata": {},
   "source": [
    "## Separate out the Errors"
   ]
  },
  {
   "cell_type": "code",
   "execution_count": 4,
   "metadata": {},
   "outputs": [],
   "source": [
    "# Create a list of all the outputs from the classifier\n",
    "outputs = []\n",
    "for text in test_text:\n",
    "    outputs.append(classifier(text))"
   ]
  },
  {
   "cell_type": "code",
   "execution_count": 5,
   "metadata": {},
   "outputs": [],
   "source": [
    "errors = []\n",
    "for x in range(len(outputs)):\n",
    "    data = outputs[x][0]\n",
    "    max_score = max(d['score'] for d in data)\n",
    "    max_label = [d['label'] for d in data if d['score'] == max_score][0]\n",
    "    if max_label != test_labels_list[x]:\n",
    "        errors.append(['test_text: ', test_text[x], 'true_label: ', test_labels_list[x], 'predicted_label: ', max_label])"
   ]
  },
  {
   "cell_type": "code",
   "execution_count": 6,
   "metadata": {},
   "outputs": [
    {
     "data": {
      "text/html": [
       "<div>\n",
       "<style scoped>\n",
       "    .dataframe tbody tr th:only-of-type {\n",
       "        vertical-align: middle;\n",
       "    }\n",
       "\n",
       "    .dataframe tbody tr th {\n",
       "        vertical-align: top;\n",
       "    }\n",
       "\n",
       "    .dataframe thead th {\n",
       "        text-align: right;\n",
       "    }\n",
       "</style>\n",
       "<table border=\"1\" class=\"dataframe\">\n",
       "  <thead>\n",
       "    <tr style=\"text-align: right;\">\n",
       "      <th></th>\n",
       "      <th>0</th>\n",
       "      <th>1</th>\n",
       "      <th>2</th>\n",
       "      <th>3</th>\n",
       "      <th>4</th>\n",
       "      <th>5</th>\n",
       "    </tr>\n",
       "  </thead>\n",
       "  <tbody>\n",
       "    <tr>\n",
       "      <th>0</th>\n",
       "      <td>test_text:</td>\n",
       "      <td>Is there a way to know when my card will arrive?</td>\n",
       "      <td>true_label:</td>\n",
       "      <td>card_arrival</td>\n",
       "      <td>predicted_label:</td>\n",
       "      <td>card_delivery_estimate</td>\n",
       "    </tr>\n",
       "    <tr>\n",
       "      <th>1</th>\n",
       "      <td>test_text:</td>\n",
       "      <td>When will I get my card?</td>\n",
       "      <td>true_label:</td>\n",
       "      <td>card_arrival</td>\n",
       "      <td>predicted_label:</td>\n",
       "      <td>card_delivery_estimate</td>\n",
       "    </tr>\n",
       "    <tr>\n",
       "      <th>2</th>\n",
       "      <td>test_text:</td>\n",
       "      <td>How long does a card delivery take?</td>\n",
       "      <td>true_label:</td>\n",
       "      <td>card_arrival</td>\n",
       "      <td>predicted_label:</td>\n",
       "      <td>card_delivery_estimate</td>\n",
       "    </tr>\n",
       "    <tr>\n",
       "      <th>3</th>\n",
       "      <td>test_text:</td>\n",
       "      <td>Status of the card I ordered.</td>\n",
       "      <td>true_label:</td>\n",
       "      <td>card_arrival</td>\n",
       "      <td>predicted_label:</td>\n",
       "      <td>lost_or_stolen_card</td>\n",
       "    </tr>\n",
       "    <tr>\n",
       "      <th>4</th>\n",
       "      <td>test_text:</td>\n",
       "      <td>How do I know when my card will arrive?</td>\n",
       "      <td>true_label:</td>\n",
       "      <td>card_arrival</td>\n",
       "      <td>predicted_label:</td>\n",
       "      <td>card_delivery_estimate</td>\n",
       "    </tr>\n",
       "    <tr>\n",
       "      <th>...</th>\n",
       "      <td>...</td>\n",
       "      <td>...</td>\n",
       "      <td>...</td>\n",
       "      <td>...</td>\n",
       "      <td>...</td>\n",
       "      <td>...</td>\n",
       "    </tr>\n",
       "    <tr>\n",
       "      <th>218</th>\n",
       "      <td>test_text:</td>\n",
       "      <td>I will need to get a new card soon, how do I o...</td>\n",
       "      <td>true_label:</td>\n",
       "      <td>card_about_to_expire</td>\n",
       "      <td>predicted_label:</td>\n",
       "      <td>order_physical_card</td>\n",
       "    </tr>\n",
       "    <tr>\n",
       "      <th>219</th>\n",
       "      <td>test_text:</td>\n",
       "      <td>How can I verify my indentity?</td>\n",
       "      <td>true_label:</td>\n",
       "      <td>verify_my_identity</td>\n",
       "      <td>predicted_label:</td>\n",
       "      <td>why_verify_identity</td>\n",
       "    </tr>\n",
       "    <tr>\n",
       "      <th>220</th>\n",
       "      <td>test_text:</td>\n",
       "      <td>I need to verify my identity</td>\n",
       "      <td>true_label:</td>\n",
       "      <td>verify_my_identity</td>\n",
       "      <td>predicted_label:</td>\n",
       "      <td>why_verify_identity</td>\n",
       "    </tr>\n",
       "    <tr>\n",
       "      <th>221</th>\n",
       "      <td>test_text:</td>\n",
       "      <td>do the details of my profile have to match my ...</td>\n",
       "      <td>true_label:</td>\n",
       "      <td>verify_my_identity</td>\n",
       "      <td>predicted_label:</td>\n",
       "      <td>why_verify_identity</td>\n",
       "    </tr>\n",
       "    <tr>\n",
       "      <th>222</th>\n",
       "      <td>test_text:</td>\n",
       "      <td>Is there any way to verify who I am?</td>\n",
       "      <td>true_label:</td>\n",
       "      <td>verify_my_identity</td>\n",
       "      <td>predicted_label:</td>\n",
       "      <td>why_verify_identity</td>\n",
       "    </tr>\n",
       "  </tbody>\n",
       "</table>\n",
       "<p>223 rows × 6 columns</p>\n",
       "</div>"
      ],
      "text/plain": [
       "               0                                                  1  \\\n",
       "0    test_text:    Is there a way to know when my card will arrive?   \n",
       "1    test_text:                            When will I get my card?   \n",
       "2    test_text:                 How long does a card delivery take?   \n",
       "3    test_text:                       Status of the card I ordered.   \n",
       "4    test_text:             How do I know when my card will arrive?   \n",
       "..           ...                                                ...   \n",
       "218  test_text:   I will need to get a new card soon, how do I o...   \n",
       "219  test_text:                      How can I verify my indentity?   \n",
       "220  test_text:                        I need to verify my identity   \n",
       "221  test_text:   do the details of my profile have to match my ...   \n",
       "222  test_text:                Is there any way to verify who I am?   \n",
       "\n",
       "                2                     3                  4  \\\n",
       "0    true_label:           card_arrival  predicted_label:    \n",
       "1    true_label:           card_arrival  predicted_label:    \n",
       "2    true_label:           card_arrival  predicted_label:    \n",
       "3    true_label:           card_arrival  predicted_label:    \n",
       "4    true_label:           card_arrival  predicted_label:    \n",
       "..            ...                   ...                ...   \n",
       "218  true_label:   card_about_to_expire  predicted_label:    \n",
       "219  true_label:     verify_my_identity  predicted_label:    \n",
       "220  true_label:     verify_my_identity  predicted_label:    \n",
       "221  true_label:     verify_my_identity  predicted_label:    \n",
       "222  true_label:     verify_my_identity  predicted_label:    \n",
       "\n",
       "                          5  \n",
       "0    card_delivery_estimate  \n",
       "1    card_delivery_estimate  \n",
       "2    card_delivery_estimate  \n",
       "3       lost_or_stolen_card  \n",
       "4    card_delivery_estimate  \n",
       "..                      ...  \n",
       "218     order_physical_card  \n",
       "219     why_verify_identity  \n",
       "220     why_verify_identity  \n",
       "221     why_verify_identity  \n",
       "222     why_verify_identity  \n",
       "\n",
       "[223 rows x 6 columns]"
      ]
     },
     "execution_count": 6,
     "metadata": {},
     "output_type": "execute_result"
    }
   ],
   "source": [
    "# Visualize errors in data frame\n",
    "pd.set_option('display.max_rows', 100)\n",
    "errors_df = pd.DataFrame(errors)\n",
    "errors_df"
   ]
  },
  {
   "cell_type": "code",
   "execution_count": 7,
   "metadata": {},
   "outputs": [
    {
     "name": "stdout",
     "output_type": "stream",
     "text": [
      "0.9275974025974026\n"
     ]
    }
   ],
   "source": [
    "# Print accuracy on test data\n",
    "print(1-(len(errors_df)/len(test_labels_list)))"
   ]
  },
  {
   "cell_type": "markdown",
   "metadata": {},
   "source": [
    "## Extracting Logits and Softmax Probabilities"
   ]
  },
  {
   "cell_type": "code",
   "execution_count": 8,
   "metadata": {},
   "outputs": [],
   "source": [
    "# Output of raw logits (from Mariya's email/stackoverflow code)\n",
    "class logitFinder(TextClassificationPipeline):\n",
    "    def postprocess(self, model_outputs):\n",
    "        best_class = model_outputs[\"logits\"]\n",
    "        return best_class\n",
    "\n",
    "classifier = pipeline('text-classification', model=model_id, tokenizer=tokenizer)\n",
    "type(classifier)\n",
    "\n",
    "pipe = logitFinder(model = model, tokenizer = tokenizer)\n",
    "logit_outputs = pipe(test_text.tolist(), batch_size=2, truncation=\"only_first\")"
   ]
  },
  {
   "cell_type": "code",
   "execution_count": 9,
   "metadata": {},
   "outputs": [],
   "source": [
    "# Convert it into a NumPy array\n",
    "logits_array = np.array([np.array(logit) for logit in logit_outputs])\n",
    "\n",
    "# Flatten the logits array to ensure consistent shape\n",
    "logits_flat = logits_array.reshape(logits_array.shape[0], -1)\n",
    "\n",
    "# Apply softmax function to logits\n",
    "softmax_probs = np.exp(logits_flat) / np.sum(np.exp(logits_flat), axis=1, keepdims=True)"
   ]
  },
  {
   "cell_type": "code",
   "execution_count": 10,
   "metadata": {},
   "outputs": [
    {
     "data": {
      "image/png": "[encoded data removed]",
      "text/plain": [
       "<Figure size 1000x600 with 2 Axes>"
      ]
     },
     "metadata": {},
     "output_type": "display_data"
    }
   ],
   "source": [
    "# Visualize Softmaxes\n",
    "# Apply softmax function to logits\n",
    "softmax_probs = np.exp(logits_flat) / np.sum(np.exp(logits_flat), axis=1, keepdims=True)\n",
    "\n",
    "# Define a function to visualize softmax probabilities\n",
    "def visualize_softmax_probs(softmax_probs):\n",
    "    # Plotting heatmap\n",
    "    plt.figure(figsize=(10, 6))\n",
    "    plt.imshow(softmax_probs, cmap='viridis', aspect='auto')\n",
    "    plt.colorbar(label='Probability')\n",
    "    plt.xlabel('Class')\n",
    "    plt.ylabel('Sample')\n",
    "    plt.title('Softmax Probabilities')\n",
    "    plt.show()\n",
    "\n",
    "# Visualize softmax probabilities\n",
    "visualize_softmax_probs(softmax_probs)"
   ]
  },
  {
   "cell_type": "markdown",
   "metadata": {},
   "source": [
    "## Implementation of Softmax Prediction Probability from Hendrycks and Gimpel"
   ]
  },
  {
   "cell_type": "code",
   "execution_count": 11,
   "metadata": {},
   "outputs": [],
   "source": [
    "# Create dataframe of correct predictions\n",
    "\n",
    "# Elements to exclude\n",
    "error_text = errors_df[1]\n",
    "\n",
    "# Create a boolean mask to filter out elements\n",
    "mask = np.isin(test_text, error_text, invert=True)\n",
    "\n",
    "# Use the mask to filter elements\n",
    "correct_predictions = test_text[mask]"
   ]
  },
  {
   "cell_type": "markdown",
   "metadata": {},
   "source": [
    "#### Find Softmaxes of Correct Predictions"
   ]
  },
  {
   "cell_type": "code",
   "execution_count": 12,
   "metadata": {},
   "outputs": [],
   "source": [
    "# Get logit outputs\n",
    "correct_logits = pipe(correct_predictions.tolist(), batch_size=2, truncation=\"only_first\") \n",
    "\n",
    "# Convert it into a NumPy array\n",
    "correct_logits_array = np.array([np.array(logit) for logit in correct_logits])\n",
    "\n",
    "# Flatten the logits array to ensure consistent shape\n",
    "correct_logits_flat = correct_logits_array.reshape(correct_logits_array.shape[0], -1)\n",
    "\n",
    "# Apply softmax function to logits\n",
    "correct_softmax_probs = np.exp(correct_logits_flat) / np.sum(np.exp(correct_logits_flat), axis=1, keepdims=True)"
   ]
  },
  {
   "cell_type": "markdown",
   "metadata": {},
   "source": [
    "#### Find Softmaxes of Erroneous Predictions"
   ]
  },
  {
   "cell_type": "code",
   "execution_count": 13,
   "metadata": {},
   "outputs": [],
   "source": [
    "# Get logit outputs\n",
    "erroneous_logits = pipe(error_text.tolist(), batch_size=2, truncation=\"only_first\") \n",
    "\n",
    "# Convert it into a NumPy array\n",
    "erroneous_logits_array = np.array([np.array(logit) for logit in erroneous_logits])\n",
    "\n",
    "# Flatten the logits array to ensure consistent shape\n",
    "erroneous_logits_flat = erroneous_logits_array.reshape(erroneous_logits_array.shape[0], -1)\n",
    "\n",
    "# Apply softmax function to logits\n",
    "erroneous_softmax_probs = np.exp(erroneous_logits_flat) / np.sum(np.exp(erroneous_logits_flat), axis=1, keepdims=True)"
   ]
  },
  {
   "cell_type": "markdown",
   "metadata": {},
   "source": [
    "#### Comparing Softmaxes of Correct and Erroneous"
   ]
  },
  {
   "cell_type": "code",
   "execution_count": 21,
   "metadata": {},
   "outputs": [
    {
     "name": "stdout",
     "output_type": "stream",
     "text": [
      "0.9472402\n"
     ]
    }
   ],
   "source": [
    "# Find mean of maximum values for each correct softmax calculation\n",
    "comb_correct_max_vals = []\n",
    "for label in correct_softmax_probs:\n",
    "    max_val = max(label)\n",
    "    comb_correct_max_vals.append(max_val)\n",
    "\n",
    "print(np.mean(comb_max_vals))\n"
   ]
  },
  {
   "cell_type": "code",
   "execution_count": 22,
   "metadata": {},
   "outputs": [
    {
     "name": "stdout",
     "output_type": "stream",
     "text": [
      "0.6872993\n"
     ]
    }
   ],
   "source": [
    "# Find mean of maximum values for each erroneous softmax calculation\n",
    "comb_erroneous_max_vals = []\n",
    "for label in erroneous_softmax_probs:\n",
    "    max_val = max(label)\n",
    "    comb_erroneous_max_vals.append(max_val)\n",
    "\n",
    "print(np.mean(comb_erroneous_max_vals))"
   ]
  },
  {
   "cell_type": "code",
   "execution_count": null,
   "metadata": {},
   "outputs": [],
   "source": []
  }
 ],
 "metadata": {
  "kernelspec": {
   "display_name": "INFO4900",
   "language": "python",
   "name": "python3"
  },
  "language_info": {
   "codemirror_mode": {
    "name": "ipython",
    "version": 3
   },
   "file_extension": ".py",
   "mimetype": "text/x-python",
   "name": "python",
   "nbconvert_exporter": "python",
   "pygments_lexer": "ipython3",
   "version": "3.11.4"
  }
 },
 "nbformat": 4,
 "nbformat_minor": 2
}
